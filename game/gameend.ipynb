{
 "cells": [
  {
   "cell_type": "code",
   "execution_count": null,
   "id": "406b9731",
   "metadata": {},
   "outputs": [],
   "source": [
    "import pygame  # 8/9\n",
    "from settings import WIN_WIDTH, WIN_HEIGHT\n",
    "GAMEOVER_IMAGE = pygame.transform.scale(pygame.image.load(\"images/gameover.png\"), (WIN_WIDTH, WIN_HEIGHT))\n",
    "\n",
    "class GameEnd:\n",
    "    def gogo(self):\n",
    "        \n",
    "        for event in pygame.event.get():\n",
    "            if event.type == pygame.QUIT:\n",
    "                quit_game = True\n",
    "            elif event.type == pygame.MOUSEBUTTONDOWN:\n",
    "                break\n",
    "            else:\n",
    "                self.win.blit(GAMEOVER_IMAGE, (0, 0))\n",
    "                pygame.display.update()\n",
    "'''class GameEnd:\n",
    "    def gogo(self):\n",
    "        self.win.blit(GAMEOVER_IMAGE, (0, 0))\n",
    "        pygame.display.update()\n",
    "        for event in pygame.event.get():\n",
    "            for event.type != pygame.MOUSEBUTTONDOWN:\n",
    "                if event.type == pygame.QUIT:\n",
    "                    quit_game = True'''"
   ]
  }
 ],
 "metadata": {
  "kernelspec": {
   "display_name": "Python 3",
   "language": "python",
   "name": "python3"
  },
  "language_info": {
   "codemirror_mode": {
    "name": "ipython",
    "version": 3
   },
   "file_extension": ".py",
   "mimetype": "text/x-python",
   "name": "python",
   "nbconvert_exporter": "python",
   "pygments_lexer": "ipython3",
   "version": "3.8.8"
  }
 },
 "nbformat": 4,
 "nbformat_minor": 5
}
